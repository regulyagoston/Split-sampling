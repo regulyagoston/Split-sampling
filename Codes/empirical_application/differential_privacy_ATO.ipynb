{
 "cells": [
  {
   "cell_type": "code",
   "execution_count": 1,
   "metadata": {},
   "outputs": [],
   "source": [
    "from sklearn.model_selection import train_test_split\n",
    "import pandas as pd\n",
    "import numpy as np\n",
    "import random\n",
    "\n",
    "df = pd.read_csv('/Users/areguly6/Library/CloudStorage/OneDrive-CorvinusUniversityofBudapest/Research/split_sampling/data_privacy/ato.csv')\n"
   ]
  },
  {
   "cell_type": "code",
   "execution_count": 2,
   "metadata": {},
   "outputs": [],
   "source": [
    "Y = np.log(df.iloc[:,0])\n",
    "X = df.iloc[:,1:58]"
   ]
  },
  {
   "cell_type": "code",
   "execution_count": 3,
   "metadata": {},
   "outputs": [
    {
     "name": "stdout",
     "output_type": "stream",
     "text": [
      "Parameter of interest: -0.2261\n"
     ]
    }
   ],
   "source": [
    "from sklearn.linear_model import LinearRegression as sk_LinearRegression\n",
    "\n",
    "regr = sk_LinearRegression()\n",
    "regr.fit(X,Y)\n",
    "print(\"Parameter of interest: %.4f\" % regr.coef_[1])"
   ]
  },
  {
   "cell_type": "code",
   "execution_count": 52,
   "metadata": {},
   "outputs": [
    {
     "name": "stderr",
     "output_type": "stream",
     "text": [
      "/Users/areguly6/anaconda3/lib/python3.11/site-packages/diffprivlib/models/linear_regression.py:271: PrivacyLeakWarning: Bounds parameters haven't been specified, so falling back to determining bounds from the data.\n",
      "This will result in additional privacy leakage. To ensure differential privacy with no additional privacy loss, specify `bounds_X` and `bounds_y`.\n",
      "  warnings.warn(\n"
     ]
    },
    {
     "name": "stdout",
     "output_type": "stream",
     "text": [
      "Parameter of interest with epsilon=1.00: 0.3686\n"
     ]
    }
   ],
   "source": [
    "from diffprivlib.models import LinearRegression\n",
    "regr_dp = LinearRegression(bounds_y=(0,np.log(225.000)))\n",
    "regr_dp.fit(X, Y)\n",
    "\n",
    "print(\"Parameter of interest with epsilon=%.2f: %.4f\" % (regr_dp.epsilon, regr_dp.coef_[1]) )"
   ]
  }
 ],
 "metadata": {
  "kernelspec": {
   "display_name": "base",
   "language": "python",
   "name": "python3"
  },
  "language_info": {
   "codemirror_mode": {
    "name": "ipython",
    "version": 3
   },
   "file_extension": ".py",
   "mimetype": "text/x-python",
   "name": "python",
   "nbconvert_exporter": "python",
   "pygments_lexer": "ipython3",
   "version": "3.11.5"
  }
 },
 "nbformat": 4,
 "nbformat_minor": 2
}
